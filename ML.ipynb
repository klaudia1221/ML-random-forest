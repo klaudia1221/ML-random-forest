{
  "nbformat": 4,
  "nbformat_minor": 0,
  "metadata": {
    "colab": {
      "name": "ML.ipynb",
      "version": "0.3.2",
      "provenance": [],
      "collapsed_sections": [],
      "toc_visible": true
    },
    "kernelspec": {
      "name": "python3",
      "display_name": "Python 3"
    }
  },
  "cells": [
    {
      "cell_type": "markdown",
      "metadata": {
        "id": "Ykwc0Ltksd5C",
        "colab_type": "text"
      },
      "source": [
        "#Random Forest\n",
        "- jeden z najbardziej efektywnych sposobów klasyfikacji, kalkuluje średnią ze wszystkich predykcji, co również redukuje bias,\n",
        "- dość trudny w interpretacji, określany jako 'black box model',\n",
        "- zapewnia szybkie porównanie znaczenia danych cech dla modelu (*feature_importances*).\n"
      ]
    },
    {
      "cell_type": "code",
      "metadata": {
        "id": "LkHT0qESscWx",
        "colab_type": "code",
        "colab": {
          "base_uri": "https://localhost:8080/",
          "height": 34
        },
        "outputId": "7b762bb9-72b6-4c5e-a70e-c0de02b6039f"
      },
      "source": [
        "from fastai.collab import *\n",
        "import pandas as pd\n",
        "from google.colab import drive\n",
        "root_dir = \"/content/gdrive/My Drive/ml/\""
      ],
      "execution_count": 107,
      "outputs": [
        {
          "output_type": "stream",
          "text": [
            "Mounted at /content/gdrive\n"
          ],
          "name": "stdout"
        }
      ]
    },
    {
      "cell_type": "code",
      "metadata": {
        "id": "izegxcTZJlOZ",
        "colab_type": "code",
        "colab": {
          "base_uri": "https://localhost:8080/",
          "height": 68
        },
        "outputId": "2253f220-f62c-4883-a1b5-ba529f8edce6"
      },
      "source": [
        "path = Path(root_dir)\n",
        "path.ls()"
      ],
      "execution_count": 108,
      "outputs": [
        {
          "output_type": "execute_result",
          "data": {
            "text/plain": [
              "[PosixPath('/content/gdrive/My Drive/ml/score_board.csv'),\n",
              " PosixPath('/content/gdrive/My Drive/ml/Audition Task - DS & MLE p.pdf'),\n",
              " PosixPath('/content/gdrive/My Drive/ml/graduates.csv')]"
            ]
          },
          "metadata": {
            "tags": []
          },
          "execution_count": 108
        }
      ]
    },
    {
      "cell_type": "code",
      "metadata": {
        "id": "T2Phw8RHJn4x",
        "colab_type": "code",
        "colab": {
          "base_uri": "https://localhost:8080/",
          "height": 34
        },
        "outputId": "fa9c52a6-1e79-41ba-a0e0-82e76b62e0d5"
      },
      "source": [
        "graduates = pd.read_csv(path/'graduates.csv', delimiter=',')\n",
        "len(graduates)"
      ],
      "execution_count": 304,
      "outputs": [
        {
          "output_type": "execute_result",
          "data": {
            "text/plain": [
              "7009"
            ]
          },
          "metadata": {
            "tags": []
          },
          "execution_count": 304
        }
      ]
    },
    {
      "cell_type": "code",
      "metadata": {
        "id": "QllQPJE0JsNj",
        "colab_type": "code",
        "colab": {
          "base_uri": "https://localhost:8080/",
          "height": 34
        },
        "outputId": "60b6dbae-fc23-4324-fb6c-04dc3134af78"
      },
      "source": [
        "score_board = pd.read_csv(path/'score_board.csv', delimiter=',')\n",
        "len(score_board)"
      ],
      "execution_count": 110,
      "outputs": [
        {
          "output_type": "execute_result",
          "data": {
            "text/plain": [
              "46478"
            ]
          },
          "metadata": {
            "tags": []
          },
          "execution_count": 110
        }
      ]
    },
    {
      "cell_type": "code",
      "metadata": {
        "id": "iSBZmquyJvY0",
        "colab_type": "code",
        "colab": {
          "base_uri": "https://localhost:8080/",
          "height": 204
        },
        "outputId": "d97df5ba-700d-4ff3-bcf8-82de319c45da"
      },
      "source": [
        "graduates.head()"
      ],
      "execution_count": 111,
      "outputs": [
        {
          "output_type": "execute_result",
          "data": {
            "text/html": [
              "<div>\n",
              "<style scoped>\n",
              "    .dataframe tbody tr th:only-of-type {\n",
              "        vertical-align: middle;\n",
              "    }\n",
              "\n",
              "    .dataframe tbody tr th {\n",
              "        vertical-align: top;\n",
              "    }\n",
              "\n",
              "    .dataframe thead th {\n",
              "        text-align: right;\n",
              "    }\n",
              "</style>\n",
              "<table border=\"1\" class=\"dataframe\">\n",
              "  <thead>\n",
              "    <tr style=\"text-align: right;\">\n",
              "      <th></th>\n",
              "      <th>id</th>\n",
              "      <th>graduated</th>\n",
              "    </tr>\n",
              "  </thead>\n",
              "  <tbody>\n",
              "    <tr>\n",
              "      <th>0</th>\n",
              "      <td>CS-1980-00002</td>\n",
              "      <td>False</td>\n",
              "    </tr>\n",
              "    <tr>\n",
              "      <th>1</th>\n",
              "      <td>CS-1980-00004</td>\n",
              "      <td>True</td>\n",
              "    </tr>\n",
              "    <tr>\n",
              "      <th>2</th>\n",
              "      <td>CS-1980-00007</td>\n",
              "      <td>True</td>\n",
              "    </tr>\n",
              "    <tr>\n",
              "      <th>3</th>\n",
              "      <td>CS-1980-00008</td>\n",
              "      <td>False</td>\n",
              "    </tr>\n",
              "    <tr>\n",
              "      <th>4</th>\n",
              "      <td>CS-1980-00012</td>\n",
              "      <td>True</td>\n",
              "    </tr>\n",
              "  </tbody>\n",
              "</table>\n",
              "</div>"
            ],
            "text/plain": [
              "              id  graduated\n",
              "0  CS-1980-00002      False\n",
              "1  CS-1980-00004       True\n",
              "2  CS-1980-00007       True\n",
              "3  CS-1980-00008      False\n",
              "4  CS-1980-00012       True"
            ]
          },
          "metadata": {
            "tags": []
          },
          "execution_count": 111
        }
      ]
    },
    {
      "cell_type": "code",
      "metadata": {
        "id": "67yBW-g2JwP1",
        "colab_type": "code",
        "colab": {
          "base_uri": "https://localhost:8080/",
          "height": 204
        },
        "outputId": "b16ca167-0e01-4494-b93b-ff29b764c538"
      },
      "source": [
        "score_board.head()"
      ],
      "execution_count": 112,
      "outputs": [
        {
          "output_type": "execute_result",
          "data": {
            "text/html": [
              "<div>\n",
              "<style scoped>\n",
              "    .dataframe tbody tr th:only-of-type {\n",
              "        vertical-align: middle;\n",
              "    }\n",
              "\n",
              "    .dataframe tbody tr th {\n",
              "        vertical-align: top;\n",
              "    }\n",
              "\n",
              "    .dataframe thead th {\n",
              "        text-align: right;\n",
              "    }\n",
              "</style>\n",
              "<table border=\"1\" class=\"dataframe\">\n",
              "  <thead>\n",
              "    <tr style=\"text-align: right;\">\n",
              "      <th></th>\n",
              "      <th>id</th>\n",
              "      <th>year</th>\n",
              "      <th>gpa</th>\n",
              "      <th>maths_exam</th>\n",
              "      <th>art_exam</th>\n",
              "      <th>language_exam</th>\n",
              "      <th>social_activity</th>\n",
              "      <th>essay_score</th>\n",
              "      <th>interview_score</th>\n",
              "      <th>score</th>\n",
              "      <th>accepted</th>\n",
              "    </tr>\n",
              "  </thead>\n",
              "  <tbody>\n",
              "    <tr>\n",
              "      <th>0</th>\n",
              "      <td>CS-1980-00001</td>\n",
              "      <td>1980</td>\n",
              "      <td>1.674275</td>\n",
              "      <td>0.082557</td>\n",
              "      <td>0.084508</td>\n",
              "      <td>0.008007</td>\n",
              "      <td>4</td>\n",
              "      <td>0.091328</td>\n",
              "      <td>0.012596</td>\n",
              "      <td>276</td>\n",
              "      <td>False</td>\n",
              "    </tr>\n",
              "    <tr>\n",
              "      <th>1</th>\n",
              "      <td>CS-1980-00002</td>\n",
              "      <td>1980</td>\n",
              "      <td>3.743429</td>\n",
              "      <td>0.898700</td>\n",
              "      <td>0.978949</td>\n",
              "      <td>0.937879</td>\n",
              "      <td>4</td>\n",
              "      <td>0.991515</td>\n",
              "      <td>0.999604</td>\n",
              "      <td>857</td>\n",
              "      <td>True</td>\n",
              "    </tr>\n",
              "    <tr>\n",
              "      <th>2</th>\n",
              "      <td>CS-1980-00003</td>\n",
              "      <td>1980</td>\n",
              "      <td>1.500251</td>\n",
              "      <td>0.075756</td>\n",
              "      <td>0.002541</td>\n",
              "      <td>0.216737</td>\n",
              "      <td>3</td>\n",
              "      <td>0.008463</td>\n",
              "      <td>0.001737</td>\n",
              "      <td>276</td>\n",
              "      <td>False</td>\n",
              "    </tr>\n",
              "    <tr>\n",
              "      <th>3</th>\n",
              "      <td>CS-1980-00004</td>\n",
              "      <td>1980</td>\n",
              "      <td>3.047625</td>\n",
              "      <td>0.993001</td>\n",
              "      <td>0.950673</td>\n",
              "      <td>0.763701</td>\n",
              "      <td>5</td>\n",
              "      <td>0.996858</td>\n",
              "      <td>0.949954</td>\n",
              "      <td>841</td>\n",
              "      <td>True</td>\n",
              "    </tr>\n",
              "    <tr>\n",
              "      <th>4</th>\n",
              "      <td>CS-1980-00005</td>\n",
              "      <td>1980</td>\n",
              "      <td>2.884417</td>\n",
              "      <td>0.396614</td>\n",
              "      <td>0.478490</td>\n",
              "      <td>0.180828</td>\n",
              "      <td>3</td>\n",
              "      <td>0.638742</td>\n",
              "      <td>0.182141</td>\n",
              "      <td>554</td>\n",
              "      <td>False</td>\n",
              "    </tr>\n",
              "  </tbody>\n",
              "</table>\n",
              "</div>"
            ],
            "text/plain": [
              "              id  year       gpa  ...  interview_score  score  accepted\n",
              "0  CS-1980-00001  1980  1.674275  ...         0.012596    276     False\n",
              "1  CS-1980-00002  1980  3.743429  ...         0.999604    857      True\n",
              "2  CS-1980-00003  1980  1.500251  ...         0.001737    276     False\n",
              "3  CS-1980-00004  1980  3.047625  ...         0.949954    841      True\n",
              "4  CS-1980-00005  1980  2.884417  ...         0.182141    554     False\n",
              "\n",
              "[5 rows x 11 columns]"
            ]
          },
          "metadata": {
            "tags": []
          },
          "execution_count": 112
        }
      ]
    },
    {
      "cell_type": "code",
      "metadata": {
        "id": "iyzTGzJ45oFE",
        "colab_type": "code",
        "colab": {}
      },
      "source": [
        "data_predict=score_board.drop(['id','year','accepted'],axis=1)"
      ],
      "execution_count": 0,
      "outputs": []
    },
    {
      "cell_type": "code",
      "metadata": {
        "id": "IdyLNnon5yy5",
        "colab_type": "code",
        "colab": {
          "base_uri": "https://localhost:8080/",
          "height": 204
        },
        "outputId": "99f8fe5b-b435-4431-8e78-22077890898c"
      },
      "source": [
        "data_predict.head()\n",
        "len(data_predict)\n",
        "X_predict = data_predict.copy()\n",
        "X_predict = pd.get_dummies(X_predict, columns=['social_activity'], prefix = ['social_activity'])\n",
        "X_predict.head()"
      ],
      "execution_count": 243,
      "outputs": [
        {
          "output_type": "execute_result",
          "data": {
            "text/html": [
              "<div>\n",
              "<style scoped>\n",
              "    .dataframe tbody tr th:only-of-type {\n",
              "        vertical-align: middle;\n",
              "    }\n",
              "\n",
              "    .dataframe tbody tr th {\n",
              "        vertical-align: top;\n",
              "    }\n",
              "\n",
              "    .dataframe thead th {\n",
              "        text-align: right;\n",
              "    }\n",
              "</style>\n",
              "<table border=\"1\" class=\"dataframe\">\n",
              "  <thead>\n",
              "    <tr style=\"text-align: right;\">\n",
              "      <th></th>\n",
              "      <th>gpa</th>\n",
              "      <th>maths_exam</th>\n",
              "      <th>art_exam</th>\n",
              "      <th>language_exam</th>\n",
              "      <th>essay_score</th>\n",
              "      <th>interview_score</th>\n",
              "      <th>score</th>\n",
              "      <th>social_activity_1</th>\n",
              "      <th>social_activity_2</th>\n",
              "      <th>social_activity_3</th>\n",
              "      <th>social_activity_4</th>\n",
              "      <th>social_activity_5</th>\n",
              "    </tr>\n",
              "  </thead>\n",
              "  <tbody>\n",
              "    <tr>\n",
              "      <th>0</th>\n",
              "      <td>1.674275</td>\n",
              "      <td>0.082557</td>\n",
              "      <td>0.084508</td>\n",
              "      <td>0.008007</td>\n",
              "      <td>0.091328</td>\n",
              "      <td>0.012596</td>\n",
              "      <td>276</td>\n",
              "      <td>0</td>\n",
              "      <td>0</td>\n",
              "      <td>0</td>\n",
              "      <td>1</td>\n",
              "      <td>0</td>\n",
              "    </tr>\n",
              "    <tr>\n",
              "      <th>1</th>\n",
              "      <td>3.743429</td>\n",
              "      <td>0.898700</td>\n",
              "      <td>0.978949</td>\n",
              "      <td>0.937879</td>\n",
              "      <td>0.991515</td>\n",
              "      <td>0.999604</td>\n",
              "      <td>857</td>\n",
              "      <td>0</td>\n",
              "      <td>0</td>\n",
              "      <td>0</td>\n",
              "      <td>1</td>\n",
              "      <td>0</td>\n",
              "    </tr>\n",
              "    <tr>\n",
              "      <th>2</th>\n",
              "      <td>1.500251</td>\n",
              "      <td>0.075756</td>\n",
              "      <td>0.002541</td>\n",
              "      <td>0.216737</td>\n",
              "      <td>0.008463</td>\n",
              "      <td>0.001737</td>\n",
              "      <td>276</td>\n",
              "      <td>0</td>\n",
              "      <td>0</td>\n",
              "      <td>1</td>\n",
              "      <td>0</td>\n",
              "      <td>0</td>\n",
              "    </tr>\n",
              "    <tr>\n",
              "      <th>3</th>\n",
              "      <td>3.047625</td>\n",
              "      <td>0.993001</td>\n",
              "      <td>0.950673</td>\n",
              "      <td>0.763701</td>\n",
              "      <td>0.996858</td>\n",
              "      <td>0.949954</td>\n",
              "      <td>841</td>\n",
              "      <td>0</td>\n",
              "      <td>0</td>\n",
              "      <td>0</td>\n",
              "      <td>0</td>\n",
              "      <td>1</td>\n",
              "    </tr>\n",
              "    <tr>\n",
              "      <th>4</th>\n",
              "      <td>2.884417</td>\n",
              "      <td>0.396614</td>\n",
              "      <td>0.478490</td>\n",
              "      <td>0.180828</td>\n",
              "      <td>0.638742</td>\n",
              "      <td>0.182141</td>\n",
              "      <td>554</td>\n",
              "      <td>0</td>\n",
              "      <td>0</td>\n",
              "      <td>1</td>\n",
              "      <td>0</td>\n",
              "      <td>0</td>\n",
              "    </tr>\n",
              "  </tbody>\n",
              "</table>\n",
              "</div>"
            ],
            "text/plain": [
              "        gpa  maths_exam  ...  social_activity_4  social_activity_5\n",
              "0  1.674275    0.082557  ...                  1                  0\n",
              "1  3.743429    0.898700  ...                  1                  0\n",
              "2  1.500251    0.075756  ...                  0                  0\n",
              "3  3.047625    0.993001  ...                  0                  1\n",
              "4  2.884417    0.396614  ...                  0                  0\n",
              "\n",
              "[5 rows x 12 columns]"
            ]
          },
          "metadata": {
            "tags": []
          },
          "execution_count": 243
        }
      ]
    },
    {
      "cell_type": "code",
      "metadata": {
        "id": "CdnI0P2kJy5p",
        "colab_type": "code",
        "colab": {
          "base_uri": "https://localhost:8080/",
          "height": 204
        },
        "outputId": "33cd01d5-d8cd-49d7-eea9-82f55afc7a62"
      },
      "source": [
        "grads_data=graduates.merge(score_board[['id','year','gpa','maths_exam','art_exam','language_exam','social_activity','essay_score','interview_score','score']])\n",
        "grads_data.head()"
      ],
      "execution_count": 113,
      "outputs": [
        {
          "output_type": "execute_result",
          "data": {
            "text/html": [
              "<div>\n",
              "<style scoped>\n",
              "    .dataframe tbody tr th:only-of-type {\n",
              "        vertical-align: middle;\n",
              "    }\n",
              "\n",
              "    .dataframe tbody tr th {\n",
              "        vertical-align: top;\n",
              "    }\n",
              "\n",
              "    .dataframe thead th {\n",
              "        text-align: right;\n",
              "    }\n",
              "</style>\n",
              "<table border=\"1\" class=\"dataframe\">\n",
              "  <thead>\n",
              "    <tr style=\"text-align: right;\">\n",
              "      <th></th>\n",
              "      <th>id</th>\n",
              "      <th>graduated</th>\n",
              "      <th>year</th>\n",
              "      <th>gpa</th>\n",
              "      <th>maths_exam</th>\n",
              "      <th>art_exam</th>\n",
              "      <th>language_exam</th>\n",
              "      <th>social_activity</th>\n",
              "      <th>essay_score</th>\n",
              "      <th>interview_score</th>\n",
              "      <th>score</th>\n",
              "    </tr>\n",
              "  </thead>\n",
              "  <tbody>\n",
              "    <tr>\n",
              "      <th>0</th>\n",
              "      <td>CS-1980-00002</td>\n",
              "      <td>False</td>\n",
              "      <td>1980</td>\n",
              "      <td>3.743429</td>\n",
              "      <td>0.898700</td>\n",
              "      <td>0.978949</td>\n",
              "      <td>0.937879</td>\n",
              "      <td>4</td>\n",
              "      <td>0.991515</td>\n",
              "      <td>0.999604</td>\n",
              "      <td>857</td>\n",
              "    </tr>\n",
              "    <tr>\n",
              "      <th>1</th>\n",
              "      <td>CS-1980-00004</td>\n",
              "      <td>True</td>\n",
              "      <td>1980</td>\n",
              "      <td>3.047625</td>\n",
              "      <td>0.993001</td>\n",
              "      <td>0.950673</td>\n",
              "      <td>0.763701</td>\n",
              "      <td>5</td>\n",
              "      <td>0.996858</td>\n",
              "      <td>0.949954</td>\n",
              "      <td>841</td>\n",
              "    </tr>\n",
              "    <tr>\n",
              "      <th>2</th>\n",
              "      <td>CS-1980-00007</td>\n",
              "      <td>True</td>\n",
              "      <td>1980</td>\n",
              "      <td>2.897191</td>\n",
              "      <td>0.718591</td>\n",
              "      <td>0.941583</td>\n",
              "      <td>0.489207</td>\n",
              "      <td>4</td>\n",
              "      <td>0.980957</td>\n",
              "      <td>0.912487</td>\n",
              "      <td>811</td>\n",
              "    </tr>\n",
              "    <tr>\n",
              "      <th>3</th>\n",
              "      <td>CS-1980-00008</td>\n",
              "      <td>False</td>\n",
              "      <td>1980</td>\n",
              "      <td>3.948450</td>\n",
              "      <td>0.953325</td>\n",
              "      <td>0.981074</td>\n",
              "      <td>0.914729</td>\n",
              "      <td>1</td>\n",
              "      <td>0.999489</td>\n",
              "      <td>0.997138</td>\n",
              "      <td>875</td>\n",
              "    </tr>\n",
              "    <tr>\n",
              "      <th>4</th>\n",
              "      <td>CS-1980-00012</td>\n",
              "      <td>True</td>\n",
              "      <td>1980</td>\n",
              "      <td>3.939870</td>\n",
              "      <td>0.452506</td>\n",
              "      <td>0.952712</td>\n",
              "      <td>0.974585</td>\n",
              "      <td>4</td>\n",
              "      <td>0.940924</td>\n",
              "      <td>0.973076</td>\n",
              "      <td>790</td>\n",
              "    </tr>\n",
              "  </tbody>\n",
              "</table>\n",
              "</div>"
            ],
            "text/plain": [
              "              id  graduated  year  ...  essay_score  interview_score  score\n",
              "0  CS-1980-00002      False  1980  ...     0.991515         0.999604    857\n",
              "1  CS-1980-00004       True  1980  ...     0.996858         0.949954    841\n",
              "2  CS-1980-00007       True  1980  ...     0.980957         0.912487    811\n",
              "3  CS-1980-00008      False  1980  ...     0.999489         0.997138    875\n",
              "4  CS-1980-00012       True  1980  ...     0.940924         0.973076    790\n",
              "\n",
              "[5 rows x 11 columns]"
            ]
          },
          "metadata": {
            "tags": []
          },
          "execution_count": 113
        }
      ]
    },
    {
      "cell_type": "code",
      "metadata": {
        "id": "EQKq5Q1TLYE0",
        "colab_type": "code",
        "colab": {
          "base_uri": "https://localhost:8080/",
          "height": 34
        },
        "outputId": "34735663-9e3e-4dbb-dc7f-5c69dc4db0bb"
      },
      "source": [
        "len(grads_data)"
      ],
      "execution_count": 114,
      "outputs": [
        {
          "output_type": "execute_result",
          "data": {
            "text/plain": [
              "7009"
            ]
          },
          "metadata": {
            "tags": []
          },
          "execution_count": 114
        }
      ]
    },
    {
      "cell_type": "code",
      "metadata": {
        "id": "xEjfByrct2r0",
        "colab_type": "code",
        "colab": {
          "base_uri": "https://localhost:8080/",
          "height": 221
        },
        "outputId": "10b292d1-5722-4fa1-c868-d065b2c31aa0"
      },
      "source": [
        "#sprawdzenie kompletności danych\n",
        "def percentage(numerator, denomenator):\n",
        "    if type(numerator) == pd.core.series.Series:\n",
        "        return (numerator/denomenator*100).map('{:.1f}%'.format)\n",
        "    elif type(numerator) == int or type(numerator) == float:\n",
        "        return '{:.1f}%'.format(float(numerator)/float(denomenator)*100) \n",
        "    else:\n",
        "        print(\"check type\")\n",
        "        \n",
        "percentage(grads_data.count()-1, grads_data.shape[0]-1)"
      ],
      "execution_count": 115,
      "outputs": [
        {
          "output_type": "execute_result",
          "data": {
            "text/plain": [
              "id                 100.0%\n",
              "graduated          100.0%\n",
              "year               100.0%\n",
              "gpa                100.0%\n",
              "maths_exam         100.0%\n",
              "art_exam           100.0%\n",
              "language_exam      100.0%\n",
              "social_activity    100.0%\n",
              "essay_score        100.0%\n",
              "interview_score    100.0%\n",
              "score              100.0%\n",
              "dtype: object"
            ]
          },
          "metadata": {
            "tags": []
          },
          "execution_count": 115
        }
      ]
    },
    {
      "cell_type": "code",
      "metadata": {
        "id": "nPoc-LR7Lv9R",
        "colab_type": "code",
        "colab": {}
      },
      "source": [
        "#Usuwamy ze zbioru cech dane na temat roku, id  i informację, czy student ukończył studia.\n",
        "features=grads_data.drop(['graduated','id','year'],axis=1)\n",
        "targets=grads_data['graduated']"
      ],
      "execution_count": 0,
      "outputs": []
    },
    {
      "cell_type": "code",
      "metadata": {
        "id": "LTTHM069L5uv",
        "colab_type": "code",
        "colab": {
          "base_uri": "https://localhost:8080/",
          "height": 204
        },
        "outputId": "bc016cfc-cdc9-4478-fe73-f38dc2169289"
      },
      "source": [
        "features.head()"
      ],
      "execution_count": 158,
      "outputs": [
        {
          "output_type": "execute_result",
          "data": {
            "text/html": [
              "<div>\n",
              "<style scoped>\n",
              "    .dataframe tbody tr th:only-of-type {\n",
              "        vertical-align: middle;\n",
              "    }\n",
              "\n",
              "    .dataframe tbody tr th {\n",
              "        vertical-align: top;\n",
              "    }\n",
              "\n",
              "    .dataframe thead th {\n",
              "        text-align: right;\n",
              "    }\n",
              "</style>\n",
              "<table border=\"1\" class=\"dataframe\">\n",
              "  <thead>\n",
              "    <tr style=\"text-align: right;\">\n",
              "      <th></th>\n",
              "      <th>gpa</th>\n",
              "      <th>maths_exam</th>\n",
              "      <th>art_exam</th>\n",
              "      <th>language_exam</th>\n",
              "      <th>social_activity</th>\n",
              "      <th>essay_score</th>\n",
              "      <th>interview_score</th>\n",
              "      <th>score</th>\n",
              "    </tr>\n",
              "  </thead>\n",
              "  <tbody>\n",
              "    <tr>\n",
              "      <th>0</th>\n",
              "      <td>3.743429</td>\n",
              "      <td>0.898700</td>\n",
              "      <td>0.978949</td>\n",
              "      <td>0.937879</td>\n",
              "      <td>4</td>\n",
              "      <td>0.991515</td>\n",
              "      <td>0.999604</td>\n",
              "      <td>857</td>\n",
              "    </tr>\n",
              "    <tr>\n",
              "      <th>1</th>\n",
              "      <td>3.047625</td>\n",
              "      <td>0.993001</td>\n",
              "      <td>0.950673</td>\n",
              "      <td>0.763701</td>\n",
              "      <td>5</td>\n",
              "      <td>0.996858</td>\n",
              "      <td>0.949954</td>\n",
              "      <td>841</td>\n",
              "    </tr>\n",
              "    <tr>\n",
              "      <th>2</th>\n",
              "      <td>2.897191</td>\n",
              "      <td>0.718591</td>\n",
              "      <td>0.941583</td>\n",
              "      <td>0.489207</td>\n",
              "      <td>4</td>\n",
              "      <td>0.980957</td>\n",
              "      <td>0.912487</td>\n",
              "      <td>811</td>\n",
              "    </tr>\n",
              "    <tr>\n",
              "      <th>3</th>\n",
              "      <td>3.948450</td>\n",
              "      <td>0.953325</td>\n",
              "      <td>0.981074</td>\n",
              "      <td>0.914729</td>\n",
              "      <td>1</td>\n",
              "      <td>0.999489</td>\n",
              "      <td>0.997138</td>\n",
              "      <td>875</td>\n",
              "    </tr>\n",
              "    <tr>\n",
              "      <th>4</th>\n",
              "      <td>3.939870</td>\n",
              "      <td>0.452506</td>\n",
              "      <td>0.952712</td>\n",
              "      <td>0.974585</td>\n",
              "      <td>4</td>\n",
              "      <td>0.940924</td>\n",
              "      <td>0.973076</td>\n",
              "      <td>790</td>\n",
              "    </tr>\n",
              "  </tbody>\n",
              "</table>\n",
              "</div>"
            ],
            "text/plain": [
              "        gpa  maths_exam  art_exam  ...  essay_score  interview_score  score\n",
              "0  3.743429    0.898700  0.978949  ...     0.991515         0.999604    857\n",
              "1  3.047625    0.993001  0.950673  ...     0.996858         0.949954    841\n",
              "2  2.897191    0.718591  0.941583  ...     0.980957         0.912487    811\n",
              "3  3.948450    0.953325  0.981074  ...     0.999489         0.997138    875\n",
              "4  3.939870    0.452506  0.952712  ...     0.940924         0.973076    790\n",
              "\n",
              "[5 rows x 8 columns]"
            ]
          },
          "metadata": {
            "tags": []
          },
          "execution_count": 158
        }
      ]
    },
    {
      "cell_type": "code",
      "metadata": {
        "id": "qmfosZIcMRjE",
        "colab_type": "code",
        "colab": {
          "base_uri": "https://localhost:8080/",
          "height": 356
        },
        "outputId": "8ee0bb5b-6070-4031-ac8f-dfe876cc5b99"
      },
      "source": [
        "import seaborn as sns\n",
        "sns.heatmap(features.corr(), annot=True)\n"
      ],
      "execution_count": 194,
      "outputs": [
        {
          "output_type": "execute_result",
          "data": {
            "text/plain": [
              "<matplotlib.axes._subplots.AxesSubplot at 0x7f3867e8ff60>"
            ]
          },
          "metadata": {
            "tags": []
          },
          "execution_count": 194
        },
        {
          "output_type": "display_data",
          "data": {
            "image/png": "[encoded data removed]",
            "text/plain": [
              "<Figure size 432x288 with 2 Axes>"
            ]
          },
          "metadata": {
            "tags": []
          }
        }
      ]
    },
    {
      "cell_type": "markdown",
      "metadata": {
        "id": "UpmOzQuwEDd-",
        "colab_type": "text"
      },
      "source": [
        "Heatmap pokazuje wzajemne zależności między cechami zbioru danych.  W większości "
      ]
    },
    {
      "cell_type": "code",
      "metadata": {
        "id": "oXHWHU95XS5y",
        "colab_type": "code",
        "colab": {
          "base_uri": "https://localhost:8080/",
          "height": 136
        },
        "outputId": "8058ea7a-2cda-430b-8d90-63bd739dec0a"
      },
      "source": [
        "from sklearn.model_selection import train_test_split\n",
        "from sklearn.ensemble import RandomForestClassifier\n",
        "from sklearn.preprocessing import StandardScaler\n",
        "x_train, x_test, y_train, y_test = train_test_split(features, targets, test_size=0.2)\n",
        "model=RandomForestClassifier(n_estimators=100 ,n_jobs=1, oob_score=True, random_state=42)\n",
        "model.fit(x_train,y_train)"
      ],
      "execution_count": 195,
      "outputs": [
        {
          "output_type": "execute_result",
          "data": {
            "text/plain": [
              "RandomForestClassifier(bootstrap=True, class_weight=None, criterion='gini',\n",
              "                       max_depth=None, max_features='auto', max_leaf_nodes=None,\n",
              "                       min_impurity_decrease=0.0, min_impurity_split=None,\n",
              "                       min_samples_leaf=1, min_samples_split=2,\n",
              "                       min_weight_fraction_leaf=0.0, n_estimators=100, n_jobs=1,\n",
              "                       oob_score=True, random_state=42, verbose=0,\n",
              "                       warm_start=False)"
            ]
          },
          "metadata": {
            "tags": []
          },
          "execution_count": 195
        }
      ]
    },
    {
      "cell_type": "code",
      "metadata": {
        "id": "OgO-jeKWX6bX",
        "colab_type": "code",
        "colab": {
          "base_uri": "https://localhost:8080/",
          "height": 34
        },
        "outputId": "8ea9d0af-273a-4cc3-f87c-c4e4a674931d"
      },
      "source": [
        "roc=model.oob_score_\n",
        "roc"
      ],
      "execution_count": 196,
      "outputs": [
        {
          "output_type": "execute_result",
          "data": {
            "text/plain": [
              "0.6638130907793829"
            ]
          },
          "metadata": {
            "tags": []
          },
          "execution_count": 196
        }
      ]
    },
    {
      "cell_type": "code",
      "metadata": {
        "id": "GrFVlmbpYBRo",
        "colab_type": "code",
        "colab": {
          "base_uri": "https://localhost:8080/",
          "height": 170
        },
        "outputId": "f4fc5b09-b450-4ba7-fc3b-8c879914ad3c"
      },
      "source": [
        "import pandas as pd\n",
        "feature_imp = pd.Series(model.feature_importances_,index=features.columns).sort_values(ascending=False)\n",
        "feature_imp"
      ],
      "execution_count": 197,
      "outputs": [
        {
          "output_type": "execute_result",
          "data": {
            "text/plain": [
              "maths_exam         0.142361\n",
              "gpa                0.139550\n",
              "score              0.137730\n",
              "interview_score    0.135356\n",
              "essay_score        0.134253\n",
              "language_exam      0.130063\n",
              "art_exam           0.129105\n",
              "social_activity    0.051581\n",
              "dtype: float64"
            ]
          },
          "metadata": {
            "tags": []
          },
          "execution_count": 197
        }
      ]
    },
    {
      "cell_type": "code",
      "metadata": {
        "id": "4FgbM3BaYXqs",
        "colab_type": "code",
        "colab": {
          "base_uri": "https://localhost:8080/",
          "height": 295
        },
        "outputId": "d36cf949-7d70-4e99-a497-eec204248396"
      },
      "source": [
        "import matplotlib.pyplot as plt\n",
        "import seaborn as sns\n",
        "%matplotlib inline\n",
        "# Creating a bar plot\n",
        "sns.barplot(x=feature_imp, y=feature_imp.index)\n",
        "plt.xlabel('Feature Importance Score')\n",
        "plt.ylabel('Features')\n",
        "plt.title(\"Visualizing Important Features\")\n",
        "plt.show()"
      ],
      "execution_count": 198,
      "outputs": [
        {
          "output_type": "display_data",
          "data": {
            "image/png": "[encoded data removed]",
            "text/plain": [
              "<Figure size 432x288 with 1 Axes>"
            ]
          },
          "metadata": {
            "tags": []
          }
        }
      ]
    },
    {
      "cell_type": "markdown",
      "metadata": {
        "id": "g71LBWZCMkXw",
        "colab_type": "text"
      },
      "source": [
        "Na podstawie wykresu widzimy, że cechą o najmniejszym znaczeniu jest 'social_activity'. Najważniejsze cechy to *gpa*, *score* i *math_exam*."
      ]
    },
    {
      "cell_type": "code",
      "metadata": {
        "id": "s1fdSSSfmhTu",
        "colab_type": "code",
        "colab": {
          "base_uri": "https://localhost:8080/",
          "height": 297
        },
        "outputId": "44262a4b-0ce0-415a-e827-ab79e789b376"
      },
      "source": [
        "features.describe(include='all')\n"
      ],
      "execution_count": 199,
      "outputs": [
        {
          "output_type": "execute_result",
          "data": {
            "text/html": [
              "<div>\n",
              "<style scoped>\n",
              "    .dataframe tbody tr th:only-of-type {\n",
              "        vertical-align: middle;\n",
              "    }\n",
              "\n",
              "    .dataframe tbody tr th {\n",
              "        vertical-align: top;\n",
              "    }\n",
              "\n",
              "    .dataframe thead th {\n",
              "        text-align: right;\n",
              "    }\n",
              "</style>\n",
              "<table border=\"1\" class=\"dataframe\">\n",
              "  <thead>\n",
              "    <tr style=\"text-align: right;\">\n",
              "      <th></th>\n",
              "      <th>gpa</th>\n",
              "      <th>maths_exam</th>\n",
              "      <th>art_exam</th>\n",
              "      <th>language_exam</th>\n",
              "      <th>social_activity</th>\n",
              "      <th>essay_score</th>\n",
              "      <th>interview_score</th>\n",
              "      <th>score</th>\n",
              "    </tr>\n",
              "  </thead>\n",
              "  <tbody>\n",
              "    <tr>\n",
              "      <th>count</th>\n",
              "      <td>7009.000000</td>\n",
              "      <td>7009.000000</td>\n",
              "      <td>7009.000000</td>\n",
              "      <td>7009.000000</td>\n",
              "      <td>7009.000000</td>\n",
              "      <td>7009.000000</td>\n",
              "      <td>7009.000000</td>\n",
              "      <td>7009.000000</td>\n",
              "    </tr>\n",
              "    <tr>\n",
              "      <th>mean</th>\n",
              "      <td>3.594377</td>\n",
              "      <td>0.851056</td>\n",
              "      <td>0.815081</td>\n",
              "      <td>0.814123</td>\n",
              "      <td>3.000143</td>\n",
              "      <td>0.934669</td>\n",
              "      <td>0.936532</td>\n",
              "      <td>853.515623</td>\n",
              "    </tr>\n",
              "    <tr>\n",
              "      <th>std</th>\n",
              "      <td>0.329060</td>\n",
              "      <td>0.192624</td>\n",
              "      <td>0.224290</td>\n",
              "      <td>0.227928</td>\n",
              "      <td>1.421410</td>\n",
              "      <td>0.130732</td>\n",
              "      <td>0.131171</td>\n",
              "      <td>105.485478</td>\n",
              "    </tr>\n",
              "    <tr>\n",
              "      <th>min</th>\n",
              "      <td>1.850764</td>\n",
              "      <td>0.009699</td>\n",
              "      <td>0.002378</td>\n",
              "      <td>0.005865</td>\n",
              "      <td>1.000000</td>\n",
              "      <td>0.002230</td>\n",
              "      <td>0.004825</td>\n",
              "      <td>561.000000</td>\n",
              "    </tr>\n",
              "    <tr>\n",
              "      <th>25%</th>\n",
              "      <td>3.420754</td>\n",
              "      <td>0.801365</td>\n",
              "      <td>0.739754</td>\n",
              "      <td>0.733354</td>\n",
              "      <td>2.000000</td>\n",
              "      <td>0.941314</td>\n",
              "      <td>0.944835</td>\n",
              "      <td>783.000000</td>\n",
              "    </tr>\n",
              "    <tr>\n",
              "      <th>50%</th>\n",
              "      <td>3.676011</td>\n",
              "      <td>0.931921</td>\n",
              "      <td>0.912559</td>\n",
              "      <td>0.916296</td>\n",
              "      <td>3.000000</td>\n",
              "      <td>0.985999</td>\n",
              "      <td>0.986613</td>\n",
              "      <td>839.000000</td>\n",
              "    </tr>\n",
              "    <tr>\n",
              "      <th>75%</th>\n",
              "      <td>3.847615</td>\n",
              "      <td>0.979433</td>\n",
              "      <td>0.975063</td>\n",
              "      <td>0.976982</td>\n",
              "      <td>4.000000</td>\n",
              "      <td>0.996801</td>\n",
              "      <td>0.997046</td>\n",
              "      <td>925.000000</td>\n",
              "    </tr>\n",
              "    <tr>\n",
              "      <th>max</th>\n",
              "      <td>3.999989</td>\n",
              "      <td>0.999921</td>\n",
              "      <td>0.999858</td>\n",
              "      <td>0.999942</td>\n",
              "      <td>5.000000</td>\n",
              "      <td>0.999996</td>\n",
              "      <td>0.999996</td>\n",
              "      <td>1115.000000</td>\n",
              "    </tr>\n",
              "  </tbody>\n",
              "</table>\n",
              "</div>"
            ],
            "text/plain": [
              "               gpa   maths_exam  ...  interview_score        score\n",
              "count  7009.000000  7009.000000  ...      7009.000000  7009.000000\n",
              "mean      3.594377     0.851056  ...         0.936532   853.515623\n",
              "std       0.329060     0.192624  ...         0.131171   105.485478\n",
              "min       1.850764     0.009699  ...         0.004825   561.000000\n",
              "25%       3.420754     0.801365  ...         0.944835   783.000000\n",
              "50%       3.676011     0.931921  ...         0.986613   839.000000\n",
              "75%       3.847615     0.979433  ...         0.997046   925.000000\n",
              "max       3.999989     0.999921  ...         0.999996  1115.000000\n",
              "\n",
              "[8 rows x 8 columns]"
            ]
          },
          "metadata": {
            "tags": []
          },
          "execution_count": 199
        }
      ]
    },
    {
      "cell_type": "markdown",
      "metadata": {
        "id": "p2vtf1htDP5L",
        "colab_type": "text"
      },
      "source": [
        "# Poprawa jakości danych wejściowych poprzez one-hot encoding:\n",
        "\n"
      ]
    },
    {
      "cell_type": "code",
      "metadata": {
        "id": "Fg9c8-nnoXc-",
        "colab_type": "code",
        "colab": {
          "base_uri": "https://localhost:8080/",
          "height": 204
        },
        "outputId": "a5164ee5-f925-4779-b891-3591cd364fe5"
      },
      "source": [
        "X_one_hot_encoding = features.copy()\n",
        "X_one_hot_encoding = pd.get_dummies(X_one_hot_encoding, columns=['social_activity'], prefix = ['social_activity'])\n",
        "X_one_hot_encoding.head()"
      ],
      "execution_count": 200,
      "outputs": [
        {
          "output_type": "execute_result",
          "data": {
            "text/html": [
              "<div>\n",
              "<style scoped>\n",
              "    .dataframe tbody tr th:only-of-type {\n",
              "        vertical-align: middle;\n",
              "    }\n",
              "\n",
              "    .dataframe tbody tr th {\n",
              "        vertical-align: top;\n",
              "    }\n",
              "\n",
              "    .dataframe thead th {\n",
              "        text-align: right;\n",
              "    }\n",
              "</style>\n",
              "<table border=\"1\" class=\"dataframe\">\n",
              "  <thead>\n",
              "    <tr style=\"text-align: right;\">\n",
              "      <th></th>\n",
              "      <th>gpa</th>\n",
              "      <th>maths_exam</th>\n",
              "      <th>art_exam</th>\n",
              "      <th>language_exam</th>\n",
              "      <th>essay_score</th>\n",
              "      <th>interview_score</th>\n",
              "      <th>score</th>\n",
              "      <th>social_activity_1</th>\n",
              "      <th>social_activity_2</th>\n",
              "      <th>social_activity_3</th>\n",
              "      <th>social_activity_4</th>\n",
              "      <th>social_activity_5</th>\n",
              "    </tr>\n",
              "  </thead>\n",
              "  <tbody>\n",
              "    <tr>\n",
              "      <th>0</th>\n",
              "      <td>3.743429</td>\n",
              "      <td>0.898700</td>\n",
              "      <td>0.978949</td>\n",
              "      <td>0.937879</td>\n",
              "      <td>0.991515</td>\n",
              "      <td>0.999604</td>\n",
              "      <td>857</td>\n",
              "      <td>0</td>\n",
              "      <td>0</td>\n",
              "      <td>0</td>\n",
              "      <td>1</td>\n",
              "      <td>0</td>\n",
              "    </tr>\n",
              "    <tr>\n",
              "      <th>1</th>\n",
              "      <td>3.047625</td>\n",
              "      <td>0.993001</td>\n",
              "      <td>0.950673</td>\n",
              "      <td>0.763701</td>\n",
              "      <td>0.996858</td>\n",
              "      <td>0.949954</td>\n",
              "      <td>841</td>\n",
              "      <td>0</td>\n",
              "      <td>0</td>\n",
              "      <td>0</td>\n",
              "      <td>0</td>\n",
              "      <td>1</td>\n",
              "    </tr>\n",
              "    <tr>\n",
              "      <th>2</th>\n",
              "      <td>2.897191</td>\n",
              "      <td>0.718591</td>\n",
              "      <td>0.941583</td>\n",
              "      <td>0.489207</td>\n",
              "      <td>0.980957</td>\n",
              "      <td>0.912487</td>\n",
              "      <td>811</td>\n",
              "      <td>0</td>\n",
              "      <td>0</td>\n",
              "      <td>0</td>\n",
              "      <td>1</td>\n",
              "      <td>0</td>\n",
              "    </tr>\n",
              "    <tr>\n",
              "      <th>3</th>\n",
              "      <td>3.948450</td>\n",
              "      <td>0.953325</td>\n",
              "      <td>0.981074</td>\n",
              "      <td>0.914729</td>\n",
              "      <td>0.999489</td>\n",
              "      <td>0.997138</td>\n",
              "      <td>875</td>\n",
              "      <td>1</td>\n",
              "      <td>0</td>\n",
              "      <td>0</td>\n",
              "      <td>0</td>\n",
              "      <td>0</td>\n",
              "    </tr>\n",
              "    <tr>\n",
              "      <th>4</th>\n",
              "      <td>3.939870</td>\n",
              "      <td>0.452506</td>\n",
              "      <td>0.952712</td>\n",
              "      <td>0.974585</td>\n",
              "      <td>0.940924</td>\n",
              "      <td>0.973076</td>\n",
              "      <td>790</td>\n",
              "      <td>0</td>\n",
              "      <td>0</td>\n",
              "      <td>0</td>\n",
              "      <td>1</td>\n",
              "      <td>0</td>\n",
              "    </tr>\n",
              "  </tbody>\n",
              "</table>\n",
              "</div>"
            ],
            "text/plain": [
              "        gpa  maths_exam  ...  social_activity_4  social_activity_5\n",
              "0  3.743429    0.898700  ...                  1                  0\n",
              "1  3.047625    0.993001  ...                  0                  1\n",
              "2  2.897191    0.718591  ...                  1                  0\n",
              "3  3.948450    0.953325  ...                  0                  0\n",
              "4  3.939870    0.452506  ...                  1                  0\n",
              "\n",
              "[5 rows x 12 columns]"
            ]
          },
          "metadata": {
            "tags": []
          },
          "execution_count": 200
        }
      ]
    },
    {
      "cell_type": "code",
      "metadata": {
        "id": "rzbDVT4OZQlb",
        "colab_type": "code",
        "colab": {
          "base_uri": "https://localhost:8080/",
          "height": 136
        },
        "outputId": "7b87e98a-4496-473e-8302-9c7b78a9c1f6"
      },
      "source": [
        "#normalizacja danych\n",
        "sc = StandardScaler()\n",
        "X = sc.fit_transform(X_one_hot_encoding)\n",
        "x_train, x_test, y_train, y_test = train_test_split(X, targets, test_size=0.2)\n",
        "model=RandomForestClassifier(n_estimators=100, n_jobs=1, oob_score=True, random_state=42)\n",
        "model.fit(x_train,y_train)"
      ],
      "execution_count": 203,
      "outputs": [
        {
          "output_type": "execute_result",
          "data": {
            "text/plain": [
              "RandomForestClassifier(bootstrap=True, class_weight=None, criterion='gini',\n",
              "                       max_depth=None, max_features='auto', max_leaf_nodes=None,\n",
              "                       min_impurity_decrease=0.0, min_impurity_split=None,\n",
              "                       min_samples_leaf=1, min_samples_split=2,\n",
              "                       min_weight_fraction_leaf=0.0, n_estimators=100, n_jobs=1,\n",
              "                       oob_score=True, random_state=42, verbose=0,\n",
              "                       warm_start=False)"
            ]
          },
          "metadata": {
            "tags": []
          },
          "execution_count": 203
        }
      ]
    },
    {
      "cell_type": "code",
      "metadata": {
        "id": "FrTSOinRZd9R",
        "colab_type": "code",
        "colab": {
          "base_uri": "https://localhost:8080/",
          "height": 34
        },
        "outputId": "3550c18d-210a-436c-d655-feda7e118cdb"
      },
      "source": [
        "roc=model.oob_score_\n",
        "roc"
      ],
      "execution_count": 204,
      "outputs": [
        {
          "output_type": "execute_result",
          "data": {
            "text/plain": [
              "0.6704119850187266"
            ]
          },
          "metadata": {
            "tags": []
          },
          "execution_count": 204
        }
      ]
    },
    {
      "cell_type": "code",
      "metadata": {
        "id": "StWnN1q_M2co",
        "colab_type": "code",
        "colab": {
          "base_uri": "https://localhost:8080/",
          "height": 576
        },
        "outputId": "adb474c0-769f-41a0-a859-5378a933c697"
      },
      "source": [
        "results=[]\n",
        "n_estimator_options=[30,50,100,200,500,1000]\n",
        "#szukanie najlepszej wartosci n_estimator, ocena przy pomocy oob score \n",
        "\n",
        "for tree in n_estimator_options:\n",
        "  model=RandomForestClassifier(n_estimators=tree,n_jobs=1, oob_score=True, random_state=42)\n",
        "  model.fit(x_train,y_train)\n",
        "  print(\"trees\",tree)\n",
        "  roc=model.oob_score_\n",
        "  print (\"roc \", roc)\n",
        "  results.append(roc)\n",
        "  print (\"\")\n",
        "  \n",
        "pd.Series(results,n_estimator_options).plot();"
      ],
      "execution_count": 205,
      "outputs": [
        {
          "output_type": "stream",
          "text": [
            "trees 30\n",
            "roc  0.6454431960049938\n",
            "\n",
            "trees 50\n",
            "roc  0.6598894239343678\n",
            "\n",
            "trees 100\n",
            "roc  0.6704119850187266\n",
            "\n",
            "trees 200\n",
            "roc  0.6800428036383093\n",
            "\n",
            "trees 500\n",
            "roc  0.6830747280185483\n",
            "\n",
            "trees 1000\n",
            "roc  0.6820046370608168\n",
            "\n"
          ],
          "name": "stdout"
        },
        {
          "output_type": "display_data",
          "data": {
            "image/png": "[encoded data removed]",
            "text/plain": [
              "<Figure size 432x288 with 1 Axes>"
            ]
          },
          "metadata": {
            "tags": []
          }
        }
      ]
    },
    {
      "cell_type": "markdown",
      "metadata": {
        "id": "Fy13fM32OReg",
        "colab_type": "text"
      },
      "source": [
        "Z wykresu wynika, że odpowiednim parametrem n_estimators jest 500."
      ]
    },
    {
      "cell_type": "code",
      "metadata": {
        "id": "VZcCayOzN7PK",
        "colab_type": "code",
        "colab": {
          "base_uri": "https://localhost:8080/",
          "height": 1238
        },
        "outputId": "349b869b-9488-44b4-f799-724d8472c7ba"
      },
      "source": [
        "min_samples_leaf=np.arange(1,20,1)\n",
        "\n",
        "\n",
        "#szukanie najlepszej wartosci n_estimator, ocena przy pomocy oob score \n",
        "results=[]\n",
        "\n",
        "for leaf in min_samples_leaf:\n",
        "  model=RandomForestClassifier(n_estimators=500,n_jobs=1, oob_score=True, min_samples_leaf=leaf, random_state=42)\n",
        "  model.fit(x_train,y_train)\n",
        "  print(\"leaves\",leaf)\n",
        "  roc=model.oob_score_\n",
        "  print (\"roc \", roc)\n",
        "  results.append(roc)\n",
        "  print (\"\")\n",
        "  \n",
        "pd.Series(results,min_samples_leaf).plot();"
      ],
      "execution_count": 206,
      "outputs": [
        {
          "output_type": "stream",
          "text": [
            "leaves 1\n",
            "roc  0.6830747280185483\n",
            "\n",
            "leaves 2\n",
            "roc  0.6830747280185483\n",
            "\n",
            "leaves 3\n",
            "roc  0.6869983948635634\n",
            "\n",
            "leaves 4\n",
            "roc  0.685928303905832\n",
            "\n",
            "leaves 5\n",
            "roc  0.6884251828072053\n",
            "\n",
            "leaves 6\n",
            "roc  0.686641697877653\n",
            "\n",
            "leaves 7\n",
            "roc  0.6902086677367576\n",
            "\n",
            "leaves 8\n",
            "roc  0.6903870162297129\n",
            "\n",
            "leaves 9\n",
            "roc  0.6914571071874442\n",
            "\n",
            "leaves 10\n",
            "roc  0.6934189406099518\n",
            "\n",
            "leaves 11\n",
            "roc  0.6914571071874442\n",
            "\n",
            "leaves 12\n",
            "roc  0.6930622436240413\n",
            "\n",
            "leaves 13\n",
            "roc  0.69199215266631\n",
            "\n",
            "leaves 14\n",
            "roc  0.6928838951310862\n",
            "\n",
            "leaves 15\n",
            "roc  0.6939539860888175\n",
            "\n",
            "leaves 16\n",
            "roc  0.6925271981451757\n",
            "\n",
            "leaves 17\n",
            "roc  0.6918138041733547\n",
            "\n",
            "leaves 18\n",
            "roc  0.6927055466381309\n",
            "\n",
            "leaves 19\n",
            "roc  0.6916354556803995\n",
            "\n"
          ],
          "name": "stdout"
        },
        {
          "output_type": "display_data",
          "data": {
            "image/png": "[encoded data removed]",
            "text/plain": [
              "<Figure size 432x288 with 1 Axes>"
            ]
          },
          "metadata": {
            "tags": []
          }
        }
      ]
    },
    {
      "cell_type": "markdown",
      "metadata": {
        "id": "QnsEhLneUT3R",
        "colab_type": "text"
      },
      "source": [
        "Z wykresu wynika, że optymalnym parametrem min_samples_leaf jest liczba 15.\n"
      ]
    },
    {
      "cell_type": "code",
      "metadata": {
        "id": "wjXzgnm_R_ge",
        "colab_type": "code",
        "colab": {
          "base_uri": "https://localhost:8080/",
          "height": 170
        },
        "outputId": "d4d47157-6be9-4a11-a9f7-513bf6c68802"
      },
      "source": [
        "# max_features\n",
        "max_features=['auto','sqrt','log2']\n",
        "\n",
        "#szukanie najlepszej wartosci max_features, ocena przy pomocy oob score \n",
        "results=[]\n",
        "\n",
        "for i in max_features:\n",
        "  model=RandomForestClassifier(n_estimators=500,n_jobs=1, oob_score=True, max_features=i, random_state=42)\n",
        "  model.fit(x_train,y_train)\n",
        "  print(\"max_features\",i)\n",
        "  roc=model.oob_score_\n",
        "  print (\"roc \", roc)\n",
        "  results.append(roc)\n",
        "  print (\"\")\n",
        "  \n",
        "# pd.Series(results,max_features).plot();"
      ],
      "execution_count": 207,
      "outputs": [
        {
          "output_type": "stream",
          "text": [
            "max_features auto\n",
            "roc  0.6830747280185483\n",
            "\n",
            "max_features sqrt\n",
            "roc  0.6830747280185483\n",
            "\n",
            "max_features log2\n",
            "roc  0.6830747280185483\n",
            "\n"
          ],
          "name": "stdout"
        }
      ]
    },
    {
      "cell_type": "markdown",
      "metadata": {
        "id": "14fvaIkLU2jO",
        "colab_type": "text"
      },
      "source": [
        "Zastosowanie opcji 'auto' jest w tym przypadku najlepszym rozwiązaniem."
      ]
    },
    {
      "cell_type": "code",
      "metadata": {
        "id": "eaxvWKRrUtJC",
        "colab_type": "code",
        "colab": {
          "base_uri": "https://localhost:8080/",
          "height": 136
        },
        "outputId": "05adc0ef-4c4e-4d4b-c18f-32e1a69dbcdf"
      },
      "source": [
        " model=RandomForestClassifier(n_estimators=500, n_jobs=1, oob_score=True, max_features='auto', min_samples_leaf=10, random_state=42)\n",
        " model.fit(x_train, y_train)"
      ],
      "execution_count": 305,
      "outputs": [
        {
          "output_type": "execute_result",
          "data": {
            "text/plain": [
              "RandomForestClassifier(bootstrap=True, class_weight=None, criterion='gini',\n",
              "                       max_depth=None, max_features='auto', max_leaf_nodes=None,\n",
              "                       min_impurity_decrease=0.0, min_impurity_split=None,\n",
              "                       min_samples_leaf=10, min_samples_split=2,\n",
              "                       min_weight_fraction_leaf=0.0, n_estimators=500, n_jobs=1,\n",
              "                       oob_score=True, random_state=42, verbose=0,\n",
              "                       warm_start=False)"
            ]
          },
          "metadata": {
            "tags": []
          },
          "execution_count": 305
        }
      ]
    },
    {
      "cell_type": "code",
      "metadata": {
        "id": "_CWsXdcAl9jI",
        "colab_type": "code",
        "colab": {
          "base_uri": "https://localhost:8080/",
          "height": 34
        },
        "outputId": "9f025907-3c5d-4e92-ae19-c992a9844078"
      },
      "source": [
        "train_pred = model.predict(x_train)\n",
        "model.oob_score_"
      ],
      "execution_count": 274,
      "outputs": [
        {
          "output_type": "execute_result",
          "data": {
            "text/plain": [
              "0.6934189406099518"
            ]
          },
          "metadata": {
            "tags": []
          },
          "execution_count": 274
        }
      ]
    },
    {
      "cell_type": "code",
      "metadata": {
        "id": "NMzALQl6AEa1",
        "colab_type": "code",
        "colab": {
          "base_uri": "https://localhost:8080/",
          "height": 34
        },
        "outputId": "b56ac03d-d63c-43b0-b104-5380f385c6ba"
      },
      "source": [
        "from sklearn.metrics import accuracy_score\n",
        "score = accuracy_score(y_train, train_pred)\n",
        "score"
      ],
      "execution_count": 275,
      "outputs": [
        {
          "output_type": "execute_result",
          "data": {
            "text/plain": [
              "0.7736757624398074"
            ]
          },
          "metadata": {
            "tags": []
          },
          "execution_count": 275
        }
      ]
    },
    {
      "cell_type": "code",
      "metadata": {
        "colab_type": "code",
        "id": "GFAqRYkSNK51",
        "colab": {}
      },
      "source": [
        ""
      ],
      "execution_count": 0,
      "outputs": []
    },
    {
      "cell_type": "code",
      "metadata": {
        "id": "3EeFdPwQ2nh4",
        "colab_type": "code",
        "colab": {
          "base_uri": "https://localhost:8080/",
          "height": 34
        },
        "outputId": "67bec7f3-e1ea-4289-a906-77830feb5ed0"
      },
      "source": [
        "test_pred = model.predict(x_test)\n",
        "model.oob_score_"
      ],
      "execution_count": 276,
      "outputs": [
        {
          "output_type": "execute_result",
          "data": {
            "text/plain": [
              "0.6934189406099518"
            ]
          },
          "metadata": {
            "tags": []
          },
          "execution_count": 276
        }
      ]
    },
    {
      "cell_type": "code",
      "metadata": {
        "id": "Ngniv7wk24lm",
        "colab_type": "code",
        "colab": {
          "base_uri": "https://localhost:8080/",
          "height": 34
        },
        "outputId": "9cca7a9a-fa64-4c87-9c90-7cac532a71a6"
      },
      "source": [
        "from sklearn.metrics import accuracy_score\n",
        "score = accuracy_score(y_test, test_pred)\n",
        "score"
      ],
      "execution_count": 277,
      "outputs": [
        {
          "output_type": "execute_result",
          "data": {
            "text/plain": [
              "0.6626248216833096"
            ]
          },
          "metadata": {
            "tags": []
          },
          "execution_count": 277
        }
      ]
    },
    {
      "cell_type": "code",
      "metadata": {
        "id": "0AmFw_a_p-XY",
        "colab_type": "code",
        "colab": {
          "base_uri": "https://localhost:8080/",
          "height": 170
        },
        "outputId": "6a2f12bd-29fe-4884-cf20-9c11ae3beb4e"
      },
      "source": [
        "predictions = model.predict_proba(X_predict)\n",
        "predictions"
      ],
      "execution_count": 297,
      "outputs": [
        {
          "output_type": "execute_result",
          "data": {
            "text/plain": [
              "array([[0.188946, 0.811054],\n",
              "       [0.2267  , 0.7733  ],\n",
              "       [0.255424, 0.744576],\n",
              "       [0.141882, 0.858118],\n",
              "       ...,\n",
              "       [0.287447, 0.712553],\n",
              "       [0.130658, 0.869342],\n",
              "       [0.196911, 0.803089],\n",
              "       [0.21529 , 0.78471 ]])"
            ]
          },
          "metadata": {
            "tags": []
          },
          "execution_count": 297
        }
      ]
    },
    {
      "cell_type": "code",
      "metadata": {
        "id": "RrB17ryhDMkM",
        "colab_type": "code",
        "colab": {
          "base_uri": "https://localhost:8080/",
          "height": 34
        },
        "outputId": "d2f05fa5-acbd-4630-8258-7f25a802442f"
      },
      "source": [
        "len(dataset)"
      ],
      "execution_count": 299,
      "outputs": [
        {
          "output_type": "execute_result",
          "data": {
            "text/plain": [
              "46478"
            ]
          },
          "metadata": {
            "tags": []
          },
          "execution_count": 299
        }
      ]
    },
    {
      "cell_type": "code",
      "metadata": {
        "id": "y7bcYzQnpRFi",
        "colab_type": "code",
        "colab": {
          "base_uri": "https://localhost:8080/",
          "height": 204
        },
        "outputId": "a39d7210-b7ad-4aba-a167-b0002720881b"
      },
      "source": [
        "dataset = pd.DataFrame({'Probability1':predictions[:,0],'Probability2':predictions[:,1]}).round(2)\n",
        "dataset.head()"
      ],
      "execution_count": 301,
      "outputs": [
        {
          "output_type": "execute_result",
          "data": {
            "text/html": [
              "<div>\n",
              "<style scoped>\n",
              "    .dataframe tbody tr th:only-of-type {\n",
              "        vertical-align: middle;\n",
              "    }\n",
              "\n",
              "    .dataframe tbody tr th {\n",
              "        vertical-align: top;\n",
              "    }\n",
              "\n",
              "    .dataframe thead th {\n",
              "        text-align: right;\n",
              "    }\n",
              "</style>\n",
              "<table border=\"1\" class=\"dataframe\">\n",
              "  <thead>\n",
              "    <tr style=\"text-align: right;\">\n",
              "      <th></th>\n",
              "      <th>Probability1</th>\n",
              "      <th>Probability2</th>\n",
              "    </tr>\n",
              "  </thead>\n",
              "  <tbody>\n",
              "    <tr>\n",
              "      <th>0</th>\n",
              "      <td>0.19</td>\n",
              "      <td>0.81</td>\n",
              "    </tr>\n",
              "    <tr>\n",
              "      <th>1</th>\n",
              "      <td>0.23</td>\n",
              "      <td>0.77</td>\n",
              "    </tr>\n",
              "    <tr>\n",
              "      <th>2</th>\n",
              "      <td>0.26</td>\n",
              "      <td>0.74</td>\n",
              "    </tr>\n",
              "    <tr>\n",
              "      <th>3</th>\n",
              "      <td>0.14</td>\n",
              "      <td>0.86</td>\n",
              "    </tr>\n",
              "    <tr>\n",
              "      <th>4</th>\n",
              "      <td>0.19</td>\n",
              "      <td>0.81</td>\n",
              "    </tr>\n",
              "  </tbody>\n",
              "</table>\n",
              "</div>"
            ],
            "text/plain": [
              "   Probability1  Probability2\n",
              "0          0.19          0.81\n",
              "1          0.23          0.77\n",
              "2          0.26          0.74\n",
              "3          0.14          0.86\n",
              "4          0.19          0.81"
            ]
          },
          "metadata": {
            "tags": []
          },
          "execution_count": 301
        }
      ]
    },
    {
      "cell_type": "code",
      "metadata": {
        "id": "CagGJMlzDgho",
        "colab_type": "code",
        "colab": {
          "base_uri": "https://localhost:8080/",
          "height": 297
        },
        "outputId": "a08bb2b6-39b6-4c33-d50e-c1a8fbc70c05"
      },
      "source": [
        "dataset.describe()"
      ],
      "execution_count": 300,
      "outputs": [
        {
          "output_type": "execute_result",
          "data": {
            "text/html": [
              "<div>\n",
              "<style scoped>\n",
              "    .dataframe tbody tr th:only-of-type {\n",
              "        vertical-align: middle;\n",
              "    }\n",
              "\n",
              "    .dataframe tbody tr th {\n",
              "        vertical-align: top;\n",
              "    }\n",
              "\n",
              "    .dataframe thead th {\n",
              "        text-align: right;\n",
              "    }\n",
              "</style>\n",
              "<table border=\"1\" class=\"dataframe\">\n",
              "  <thead>\n",
              "    <tr style=\"text-align: right;\">\n",
              "      <th></th>\n",
              "      <th>Probability1</th>\n",
              "      <th>Probability2</th>\n",
              "    </tr>\n",
              "  </thead>\n",
              "  <tbody>\n",
              "    <tr>\n",
              "      <th>count</th>\n",
              "      <td>46478.000000</td>\n",
              "      <td>46478.000000</td>\n",
              "    </tr>\n",
              "    <tr>\n",
              "      <th>mean</th>\n",
              "      <td>0.225386</td>\n",
              "      <td>0.774614</td>\n",
              "    </tr>\n",
              "    <tr>\n",
              "      <th>std</th>\n",
              "      <td>0.058030</td>\n",
              "      <td>0.058030</td>\n",
              "    </tr>\n",
              "    <tr>\n",
              "      <th>min</th>\n",
              "      <td>0.070000</td>\n",
              "      <td>0.570000</td>\n",
              "    </tr>\n",
              "    <tr>\n",
              "      <th>25%</th>\n",
              "      <td>0.190000</td>\n",
              "      <td>0.740000</td>\n",
              "    </tr>\n",
              "    <tr>\n",
              "      <th>50%</th>\n",
              "      <td>0.230000</td>\n",
              "      <td>0.770000</td>\n",
              "    </tr>\n",
              "    <tr>\n",
              "      <th>75%</th>\n",
              "      <td>0.260000</td>\n",
              "      <td>0.810000</td>\n",
              "    </tr>\n",
              "    <tr>\n",
              "      <th>max</th>\n",
              "      <td>0.430000</td>\n",
              "      <td>0.930000</td>\n",
              "    </tr>\n",
              "  </tbody>\n",
              "</table>\n",
              "</div>"
            ],
            "text/plain": [
              "       Probability1  Probability2\n",
              "count  46478.000000  46478.000000\n",
              "mean       0.225386      0.774614\n",
              "std        0.058030      0.058030\n",
              "min        0.070000      0.570000\n",
              "25%        0.190000      0.740000\n",
              "50%        0.230000      0.770000\n",
              "75%        0.260000      0.810000\n",
              "max        0.430000      0.930000"
            ]
          },
          "metadata": {
            "tags": []
          },
          "execution_count": 300
        }
      ]
    },
    {
      "cell_type": "markdown",
      "metadata": {
        "id": "1W4tpTqUFsJN",
        "colab_type": "text"
      },
      "source": [
        "Średnie prawdopodobieństwo z jakim model określa przynależność danej osoby do grupy, która skończy uczelnię lub nie, wynosi 77,5%.\n",
        "\n",
        "\n"
      ]
    },
    {
      "cell_type": "code",
      "metadata": {
        "id": "FFRiu3fZ7Kdh",
        "colab_type": "code",
        "colab": {
          "base_uri": "https://localhost:8080/",
          "height": 204
        },
        "outputId": "4ed8f144-508e-4d1d-b85e-fd91b1fd21d9"
      },
      "source": [
        "pd.concat([score_board,dataset], sort=False, axis=1).head()"
      ],
      "execution_count": 303,
      "outputs": [
        {
          "output_type": "execute_result",
          "data": {
            "text/html": [
              "<div>\n",
              "<style scoped>\n",
              "    .dataframe tbody tr th:only-of-type {\n",
              "        vertical-align: middle;\n",
              "    }\n",
              "\n",
              "    .dataframe tbody tr th {\n",
              "        vertical-align: top;\n",
              "    }\n",
              "\n",
              "    .dataframe thead th {\n",
              "        text-align: right;\n",
              "    }\n",
              "</style>\n",
              "<table border=\"1\" class=\"dataframe\">\n",
              "  <thead>\n",
              "    <tr style=\"text-align: right;\">\n",
              "      <th></th>\n",
              "      <th>id</th>\n",
              "      <th>year</th>\n",
              "      <th>gpa</th>\n",
              "      <th>maths_exam</th>\n",
              "      <th>art_exam</th>\n",
              "      <th>language_exam</th>\n",
              "      <th>social_activity</th>\n",
              "      <th>essay_score</th>\n",
              "      <th>interview_score</th>\n",
              "      <th>score</th>\n",
              "      <th>accepted</th>\n",
              "      <th>Probability1</th>\n",
              "      <th>Probability2</th>\n",
              "    </tr>\n",
              "  </thead>\n",
              "  <tbody>\n",
              "    <tr>\n",
              "      <th>0</th>\n",
              "      <td>CS-1980-00001</td>\n",
              "      <td>1980</td>\n",
              "      <td>1.674275</td>\n",
              "      <td>0.082557</td>\n",
              "      <td>0.084508</td>\n",
              "      <td>0.008007</td>\n",
              "      <td>4</td>\n",
              "      <td>0.091328</td>\n",
              "      <td>0.012596</td>\n",
              "      <td>276</td>\n",
              "      <td>False</td>\n",
              "      <td>0.19</td>\n",
              "      <td>0.81</td>\n",
              "    </tr>\n",
              "    <tr>\n",
              "      <th>1</th>\n",
              "      <td>CS-1980-00002</td>\n",
              "      <td>1980</td>\n",
              "      <td>3.743429</td>\n",
              "      <td>0.898700</td>\n",
              "      <td>0.978949</td>\n",
              "      <td>0.937879</td>\n",
              "      <td>4</td>\n",
              "      <td>0.991515</td>\n",
              "      <td>0.999604</td>\n",
              "      <td>857</td>\n",
              "      <td>True</td>\n",
              "      <td>0.23</td>\n",
              "      <td>0.77</td>\n",
              "    </tr>\n",
              "    <tr>\n",
              "      <th>2</th>\n",
              "      <td>CS-1980-00003</td>\n",
              "      <td>1980</td>\n",
              "      <td>1.500251</td>\n",
              "      <td>0.075756</td>\n",
              "      <td>0.002541</td>\n",
              "      <td>0.216737</td>\n",
              "      <td>3</td>\n",
              "      <td>0.008463</td>\n",
              "      <td>0.001737</td>\n",
              "      <td>276</td>\n",
              "      <td>False</td>\n",
              "      <td>0.26</td>\n",
              "      <td>0.74</td>\n",
              "    </tr>\n",
              "    <tr>\n",
              "      <th>3</th>\n",
              "      <td>CS-1980-00004</td>\n",
              "      <td>1980</td>\n",
              "      <td>3.047625</td>\n",
              "      <td>0.993001</td>\n",
              "      <td>0.950673</td>\n",
              "      <td>0.763701</td>\n",
              "      <td>5</td>\n",
              "      <td>0.996858</td>\n",
              "      <td>0.949954</td>\n",
              "      <td>841</td>\n",
              "      <td>True</td>\n",
              "      <td>0.14</td>\n",
              "      <td>0.86</td>\n",
              "    </tr>\n",
              "    <tr>\n",
              "      <th>4</th>\n",
              "      <td>CS-1980-00005</td>\n",
              "      <td>1980</td>\n",
              "      <td>2.884417</td>\n",
              "      <td>0.396614</td>\n",
              "      <td>0.478490</td>\n",
              "      <td>0.180828</td>\n",
              "      <td>3</td>\n",
              "      <td>0.638742</td>\n",
              "      <td>0.182141</td>\n",
              "      <td>554</td>\n",
              "      <td>False</td>\n",
              "      <td>0.19</td>\n",
              "      <td>0.81</td>\n",
              "    </tr>\n",
              "  </tbody>\n",
              "</table>\n",
              "</div>"
            ],
            "text/plain": [
              "              id  year       gpa  ...  accepted  Probability1  Probability2\n",
              "0  CS-1980-00001  1980  1.674275  ...     False          0.19          0.81\n",
              "1  CS-1980-00002  1980  3.743429  ...      True          0.23          0.77\n",
              "2  CS-1980-00003  1980  1.500251  ...     False          0.26          0.74\n",
              "3  CS-1980-00004  1980  3.047625  ...      True          0.14          0.86\n",
              "4  CS-1980-00005  1980  2.884417  ...     False          0.19          0.81\n",
              "\n",
              "[5 rows x 13 columns]"
            ]
          },
          "metadata": {
            "tags": []
          },
          "execution_count": 303
        }
      ]
    },
    {
      "cell_type": "markdown",
      "metadata": {
        "id": "sIoaPbS32Wdz",
        "colab_type": "text"
      },
      "source": [
        "**Raport końcowy**\n",
        "\n",
        "---\n",
        "Dane wykorzystane do zbudowania modelu ograniczone zostały tylko do danych studentów uczelni, o których wiadomo czy ukończyli studia.\n",
        "Kolumna social_activity zawiera zmienne kategoryczne, dlatego zastosowano *one-hot encoding*. Dane w tabeli zostały poddane normalizacji, która najbardziej potrzebna była dla kolumn *gpa* i *score*. \n",
        "Model został zbudowany w oparciu o RandomForestClassifier, przy pomocy którego można szybko otrzymać miarodajne wyniki.\n",
        "Ewaluacja modelu przeprowadzona została przy użyciu *accuracy_score* i *oob_score*.\n"
      ]
    }
  ]
}